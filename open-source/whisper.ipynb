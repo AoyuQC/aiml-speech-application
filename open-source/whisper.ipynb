{
 "cells": [
  {
   "cell_type": "markdown",
   "metadata": {},
   "source": [
    "### Getting Started"
   ]
  },
  {
   "cell_type": "code",
   "execution_count": 1,
   "metadata": {},
   "outputs": [
    {
     "name": "stdout",
     "output_type": "stream",
     "text": [
      "env: AWS_DEFAULT_PROFILE=aoyu-uw2\n"
     ]
    },
    {
     "data": {
      "text/plain": [
       "'sagemaker-us-west-2-002224604296'"
      ]
     },
     "execution_count": 1,
     "metadata": {},
     "output_type": "execute_result"
    }
   ],
   "source": [
    "import os\n",
    "from dotenv import load_dotenv\n",
    "load_dotenv(dotenv_path='/data/VTO/.env')\n",
    "load_dotenv(dotenv_path='/home/ubuntu/pytorch_gpu_base_ubuntu_uw2_workplace/aws-gcr-csdc-atl/.env')\n",
    "name = \"AOYU_UW2\"\n",
    "profile_name = os.environ[f\"{name}\"]\n",
    "%env AWS_DEFAULT_PROFILE = {profile_name}\n",
    "s3_bucket_name=os.environ[f\"{name}_S3_BUCKET_NAME\"]\n",
    "role=os.environ[f\"{name}_ROLE\"]\n",
    "s3_bucket_name"
   ]
  },
  {
   "cell_type": "code",
   "execution_count": 3,
   "metadata": {},
   "outputs": [
    {
     "name": "stdout",
     "output_type": "stream",
     "text": [
      " They are not shown. The center of the turning designers fly their bikes Sorry! You put your heart on it! Thank you, so much! I also sent Awai denn money! Are you really aملie!? Can code 10000me 30 times lower for 10000me The蒙 alternatives are gray But anyway, do you see how it goes where it goes? Ever since notזoo Because even if I say so Can you give me some more? Yeah! Or shall we buy a drone from Golden Gate to Tokyo? As we wait and see... the Miku Board in 2009 were very difficult. What made the domineering, can you πangs? Why? We're gonna hit its place. I wouldn't even pro-pulled by EVIS! and AO can you feel those little difficulties? I'd normally wanted to fix anything this way. Now the Fox a fun But at this time, EXologic Passion is a pre Isthmine that occupies the premises. And the army that decides to Полstein should have the room with you, That same man after school's end brought the deal to record in the second part of 220K I'm not going to let you down. I'm not going to let you down. I'm not going to let you down. I'm not going to let you down. I'm not going to let you down. I'm not going to let you down. I'm not going to let you down. I'm not going to let you down. I'm not going to let you down. I'm not going to let you down. I'm not going to let you down. I'm not going to let you down. I'm not going to let you down. I'm not going to let you down. I'm not going to let you down. I'm not going to let you down. I'm not going to let you down. I'm not going to let you down. I'm not going to let you down. I'm not going to let you down. I'm not going to let you down. I'm not going to let you down. I'm not going to let you down. I'm not going to let you down. I'm not going to let you down. I'm not going to let you down. I'm not going to let you down. I'm not going to let you down. I'm not going to let you down. I'm not going to let you down. I'm not going to let you down. I'm not going to let you down. I'm not going to let you down. I'm not going to let you down. I'm not going to let you down. I'm not going to let you down. I'm not going to let you down. I'm not going to let you down. I'm not going to let you down. I'm not going to let you down. I'm not going to let you down. I'm not going to let you down. I'm not going to let you down. I'm not going to let you down. I'm not going to let you down. I'm not going to let you down. I'm not going to let you down. I'm not going to let you down. I'm not going to let you down. I'm not going to let you down. I'm not going to let you down. I'm not going to let you down. I'm not going to let you down. I'm not going to let you down. I'm not going to let you down. I'm not going to let you down. I'm not going to let you down. I'm not going to let you down. I don't have funny pants. I don't have funny pants. I don don't have funny pants. I don't have funny pants. I don't have funny pants. I don't have funny pants. I don't have funny pants. That was ZERO dropping. got cat consumer eating news in the videos of It is said that Japan constructores pass operations a unique conflict with the Japanese peoples and become one-pointed physicists. The world history issues are in its leading-building administration. In the form of a failed teaching, it is said that Cookie-chan should only participate in hahank翻ulerní46斷 It is the land reserveits committed with learning above the Japanese emergency In any case, it is R Subaru Karakusumi's development system There is a system called Racketsu. Racketsu is a computer that doesn't have a computer. Don't touch it! Hurry up! Hurry up! I wonder if you can see the camera in the middle of the camera. This is amazing. It's a program with a program. It's a program with a program with a program. I've already had a great fun about technology and technology related to technology in Tokyo. Please raise a video on the otherdoor, and red następly receive your program. This is called an annual Togo fox hunting republican Players. More than just Quick Hotsuorter catches Wheel of Light and Scratchmaker. If it's någon, just try this at the moment! Before that,... That has happened. How about the vault? It's a vault, aal the claims toner. Wait! They've heard! AH! Oh my god! Yeah. If I say one thing, I'm passing through my luggage the room might be trying to pasti a runt Huh, what's up? The apartments are out of place. It's the natural reserve in front of the security camera Either we walked? I mean... I don't know if maybe it's between Universe but, oh... That Turks are on the board What...? Isn't this a... The name that I once hated, probably... ...very badly ky state regions were人ally not caught by them. The Japan East Coast-language lineiponed enterprises were kicked out and effects on proposed illegal communications, otherwise according to suggested evaluation. See? Go decisive enough to allow ważne... I don't see... I'm sorry. Sovil is at awkward with Gatsumori, and Promotures are there. Yes. Honestly the replay tells the EV strategies for semiconductorierten things, too. ... But what has happened? Today, he was baited. You would, Mr. H Seemsu, you're here today sir. Now Keisei patriarch Kohan distinctu Here we go Correct. Call the stamps. General, waiter, customer, invited. I'd tell you clearly but pass it. Right. Send the electricity flash at home. I don't think I can pass them. Morning?! Where have I been? No way. But I wonder who clogged it up the entrance reception, and was brain damages. Yes, the case was in the hospital. The case was in the hospital. The case was in the hospital. The case was in the hospital. The case was in the hospital. The case was in the hospital. The case was in the hospital. The case was in the hospital. The case was in the hospital. The case was in the hospital. The case was in the hospital. The case was in the hospital. The case was in the hospital. The case was in the hospital. Yes, I see. Is that so? Is that so? The case was in the hospital. I don't know if that's what I said. But I have a question from the game. I don't know. Dad, you're not going to be in the hospital again. I said that answer them. Please forgive. Please tell them the reason. We're making a authors. That's right. Is that so? What did you do? Um. K Stand up please. Are you okay? Brother Kazumi? I Is your father being punished? Hmm... Well, I think it's something wrong. I understand. I'll try to kill him. I don't want to use that machine. Huh? That's mine too. Oh, Haku. Huh? Oh, Shishika. What's wrong? I want to kill him. I'll do it until I get it. I'll do it until I get it. I'll do it until I get it. Wait a minute. I'll do it. My smartphone... Oh, I'm sorry. Hey, you're not going to be able to speed up the speed. I'm going to speed up the speed. No, no, no. But, I'm going to stop until I get it. Even if it's 30km, I can do it like that. We've been running around 20km before. We've been running around for about 30km. I'm going to do it like that. I'm going to speed up the speed. But, I don't want to be able to speed up the speed. I didn't expect to speed up the speed. I know. I'm going to speed up the speed of the speed. I'm going to speed up the speed. I know. Alright, then, quiz time. If you answer the quiz, you'll be able to get it. What's the problem? The biggest problem in the school is how big is the next one? The biggest problem is how big is the second? The third? The fourth? The fourth? What's the big problem? The biggest problem is how big is the second? Even if you're not able to get it, the next one is the second. The next one is the second. Now, quiz time. I'll do it like that. I don't know. I'm going to speed up the speed. I'm going to speed up the speed. Then, quiz time. The first. The first. The first. If you answer the first. I'm going to speed up the speed. Ah! You're right, I told you to speed up the speed. I don't know. And I'll go back to the school. The teacher will be home at the corner? Yes, I will. I will be home. I know. I'll go back to the school from the corner. So the answer is the most important thing. The most important thing is, Uu, Suari, Uchuu, and so on. The space is bigger than anything else. So, I'm going to... Yatta! Yatta! Uu, I'm going to... I'm going to... I'm going to... I'm going to... That's not a big deal. It's a quiz that's been played by Drone. Isn't it dangerous? The game that everyone is playing now is a quiz that's been played by Drone.\n"
     ]
    }
   ],
   "source": [
    "import whisper\n",
    "\n",
    "model = whisper.load_model(\"base\")\n",
    "result = model.transcribe(\"../data/JapaneseSamle.m4a\")\n",
    "print(result[\"text\"])"
   ]
  },
  {
   "cell_type": "code",
   "execution_count": 4,
   "metadata": {},
   "outputs": [
    {
     "name": "stderr",
     "output_type": "stream",
     "text": [
      "100%|██████████████████████████████████████| 1.42G/1.42G [00:07<00:00, 195MiB/s]\n"
     ]
    },
    {
     "name": "stdout",
     "output_type": "stream",
     "text": [
      " You oh dispositions in the world. harlow had expressed the You can fly 30 minutes at 10,000 meters. That's a drone's world record. But how do you fly with that altitude? We use satellite communications. So we can operate even when we're away. We rely on images and data from the aircraft. It's hard to operate three high-speed cameras at the same time. But why did you make a drone like this? Why? That's a man's job. With this, you can climb Everest without climbing it. You're a bad laugh. It's a very legal invention. After the commercial, we'll send you the latest information about the Tokyo Summit. Here's the summit! The Tokyo-based resort is being held next week at the edge of the ocean. The edge of the ocean is designed to be suitable for the forest and sea. It's a multi-purpose facility designed with water in it. The tower is designed to protect the sea from the waves. It's a great place to visit. There's a big waterfall near the tower. There's an airfield. It's a place where people can feel the peace. And there's another concept. There's a Japanese garden on the second floor. There's a fancy restaurant on the first floor. And look at this. There are two monorails around the area. It's a smart city with a combination of tradition and the future. As you can see, the edge of the ocean is connected by two bridges. The police chief will be in charge of the security of the summit on May 1. He announced that he would give a maximum of 22,000 police officers to the city's security. Next is the white-tongued man. He's a man who's been in the police for a long time. He's a man who's been in the police for a long time. He's a man who's been in the police for a long time. He's a man who's been in the police for a long time. He's a man who's been in the police for a long time. He's a man who's been in the police for a long time. He's a man who's been in the police for a long time. He's a man who's been in the police for a long time. He's a man who's been in the police for a long time. He's a man who's been in the police for a long time. He's a man who's been in the police for a long time. He's a man who's been in the police for a long time. He's a man who's been in the police for a long time. He's a man who's been in the police for a long time. Uh... I was a high school detective, Shinichi Kudo. I went to a amusement park with my classmate, Mori Ran, as a child. I saw a suspicious black man at a trading place. I was so into trading that I didn't notice another friend coming close to me. I was poisoned by that man. I woke up. My body shrank. When Shinichi Kudo was alive, they found out. They tried to kill me, and they hurt the people around me. I decided to hide my identity under Professor Akasa's advice. I was asked the name of Ran, and I was called the Toastanian, Konan Edogawa. To get information about them, I went to Ran's house, where my father was a detective. They are Genta, Mitsuhiko, and Ayumi. They are my classmates. And they are Haibara Ai. Her real name is Miya Shihou. She was a member of the Black-Eye group. But she drank the same medicine as me to save her own life. Her body shrank. And the member of the Black-Eye group, which was surrounded by mystery, was Babon, Amuro Toru. He was a member of the secret police of the police station, which was led by the police police. He was a mysterious man who worked at the port, learning from Detective Mori, to camouflage his identity. Even if he's small, his brain is the same. He's a famous detective without any questions. The truth is, he's a man! The Black-Eye group The Black-Eye group, after the first mission from Mars, will return to Earth on May 1, Japan time. When they return, they will burn the detective body in the atmosphere, and then bring back only a 4-meter-long Earth-based capsule to the atmosphere. Then it will be parachuted to the Pacific Ocean. I see. The capsule has a GPS system, which can detect the falling point within 200 meters. Stop it! Stop it! Stop it! Stop it! I wonder if they'll divide the controller into three parts, direction, speed, and camera. Hey, hey. We're in the middle of a show, but we have some news. I have some news. At the international conference held by the Tokyo Summit next week, there was a massive explosion. This is a video of the security camera at that time. What's this? Doctor! Doctor, maybe it's T. Then Summit is a big deal. It could be a mistake. The video is still unclear. The police officer's death? I'm worried. Doctor, the screen is off. Hey, I'm coming. I see. If you wake up the terrorist before the summit, the security will be more strict. What's wrong? The video of the security camera after the explosion. Did you see something? It was a moment. It may be a mistake. What? That person is working at the bar. I think his name was Amuro Taule. Amuro? The surveillance work failed to find the explosive. There was a Japanese hotel on the first floor of the international conference. There was a kitchen in the basement. A lot of gas was detected. I think it's a good idea to call it a gas explosion. Wait, the building is just finished. It's hard to think of a gas leak. Yes, this gas pipe is the latest type. It's also possible to open and close the gas pipe from the internet. So why does the gas leak happen? There may have been a problem with the system from the beginning. Did you not check it? It was scheduled today. What does that mean? The internet environment was different today from Edge of Ocean. So this morning, after the security check by the security department, it was scheduled to be checked. Then there is a high possibility of an accident this time. If the terrorist who aimed at the summit is a foreign person, it would be meaningless to get married on May 1st. It's a summit, but it will be changed with this sword. I will report. Name and address. I am Kazami Yuya, the security officer of the police department. The sword of the explosive that exploded the gas. Not yet. We are investigating the electrical equipment in the police department. It may be a high-pressure cable. Did you find the construction mistake? No. But I found a door that was burned at the entrance of the high-pressure cable. So it's a door that was burned before the explosion. Yes. Only the construction department and the security department who checked the security this morning were at the scene. So the construction department and the police department were combined in the database. It was the same as the door of the police department. That's ridiculous. No way. No way. No way. The construction site of the construction site. I've never been to such a place. But Mr. Mori's fingerprints are on the scene. I'm not kidding. Dad, you're not drunk again and you're not going in on your own? That's why I said I was going to such a place. I'm not going to do anything wrong. I'm not going to do anything wrong. I'm not going to do anything wrong. Excuse me. Yes. What's wrong, Koran? Is that detective okay? Kazami? He was at the scene when the explosion happened. I'm sorry. I'm going to the bathroom. What's wrong? Your father is suspected by the police? I think it's a mistake. I'll look into it. It's hard to use. What? My phone... Professor. What's up, Shinichi? I have a favor to ask you. How long are you going to do this? Hurry up. Hurry up. My phone... This is fun. Please speed up. I'm filming. I'm sorry. But don't let me fly this far. You can fly even 30 kilometers ahead. We flew 20 kilometers ahead. We delivered it to Saitama's aunt's house. She was very happy. I'm sorry. But this screen is small. It's hard to see. I didn't plan to divide it into three. Professor, please put a screen on my controller. Put it on Ayumi's. That's right. Then it's a quiz. If you get the right answer, I'll give you a monitor. Here's the question. Which is the biggest scale in the hiragana industry? Agyo, Kagyo, Sakyo, Kagyo. What's the scale? Which is the biggest scale? A big scale hiragana. Agyo is Ayue. Kagyo is Kakyukyeko. What's the number of steps? I don't know. Ayumi, don't move the camera. I'm sorry. The first hint is the white butterfly. White butterfly? Ayumi, what is a white butterfly? A white butterfly lake? It's a big lake, so it's a big fish. There's no fish? The second hint is that the white butterfly comes back. The white butterfly goes home? No, it's a lake. Home. I got it. The white butterfly comes back from space. The answer is Agyo. The middle letter of Ayue is U. It's Uchu. Space is bigger than anything. I'm sorry. I got it. Ayumi, you always have too many hints. Doctor, it's dangerous to do a quiz while driving a drone. And the shooting you're doing now is different from the quiz you're doing.\n"
     ]
    }
   ],
   "source": [
    "import whisper\n",
    "\n",
    "model = whisper.load_model(\"medium\")\n",
    "result = model.transcribe(\"../data/JapaneseSamle.m4a\")\n",
    "print(result[\"text\"])"
   ]
  },
  {
   "cell_type": "code",
   "execution_count": 6,
   "metadata": {},
   "outputs": [
    {
     "name": "stdout",
     "output_type": "stream",
     "text": [
      "Detected language: en\n"
     ]
    }
   ],
   "source": [
    "import whisper\n",
    "\n",
    "model = whisper.load_model(\"medium\")\n",
    "\n",
    "# load audio and pad/trim it to fit 30 seconds\n",
    "audio = whisper.load_audio(\"../data/JapaneseSamle.m4a\")\n",
    "audio = whisper.pad_or_trim(audio)\n",
    "\n",
    "# make log-Mel spectrogram and move to the same device as the model\n",
    "mel = whisper.log_mel_spectrogram(audio).to(model.device)\n",
    "\n",
    "# detect the spoken language\n",
    "_, probs = model.detect_language(mel)\n",
    "print(f\"Detected language: {max(probs, key=probs.get)}\")\n",
    "\n",
    "# # decode the audio\n",
    "# options = whisper.DecodingOptions()\n",
    "# result = whisper.decode(model, mel, options)\n",
    "\n",
    "# # print the recognized text\n",
    "# print(result.text)"
   ]
  },
  {
   "cell_type": "code",
   "execution_count": null,
   "metadata": {},
   "outputs": [],
   "source": []
  }
 ],
 "metadata": {
  "kernelspec": {
   "display_name": "Python 3",
   "language": "python",
   "name": "python3"
  },
  "language_info": {
   "codemirror_mode": {
    "name": "ipython",
    "version": 3
   },
   "file_extension": ".py",
   "mimetype": "text/x-python",
   "name": "python",
   "nbconvert_exporter": "python",
   "pygments_lexer": "ipython3",
   "version": "3.11.9"
  }
 },
 "nbformat": 4,
 "nbformat_minor": 4
}
